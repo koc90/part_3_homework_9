{
  "nbformat": 4,
  "nbformat_minor": 0,
  "metadata": {
    "colab": {
      "provenance": [],
      "gpuType": "T4",
      "authorship_tag": "ABX9TyO2YaS9mmGf27sGXBu+VO7L",
      "include_colab_link": true
    },
    "kernelspec": {
      "name": "python3",
      "display_name": "Python 3"
    },
    "language_info": {
      "name": "python"
    },
    "accelerator": "GPU"
  },
  "cells": [
    {
      "cell_type": "markdown",
      "metadata": {
        "id": "view-in-github",
        "colab_type": "text"
      },
      "source": [
        "<a href=\"https://colab.research.google.com/github/koc90/part_3_homework_9/blob/main/Hw9.ipynb\" target=\"_parent\"><img src=\"https://colab.research.google.com/assets/colab-badge.svg\" alt=\"Open In Colab\"/></a>"
      ]
    },
    {
      "cell_type": "code",
      "execution_count": 1,
      "metadata": {
        "id": "ZxvuDq_j1jNu"
      },
      "outputs": [],
      "source": [
        "from tensorflow import keras\n",
        "import numpy as np\n",
        "import matplotlib.pyplot as plt"
      ]
    },
    {
      "cell_type": "code",
      "source": [
        "from keras.datasets import fashion_mnist"
      ],
      "metadata": {
        "id": "mAnTHzTD2Fgw"
      },
      "execution_count": 2,
      "outputs": []
    },
    {
      "cell_type": "code",
      "source": [
        "(x_train, y_train), (x_test, y_test) = fashion_mnist.load_data()\n",
        "assert x_train.shape == (60000, 28, 28)\n",
        "assert x_test.shape == (10000, 28, 28)\n",
        "assert y_train.shape == (60000,)\n",
        "assert y_test.shape == (10000,)\n"
      ],
      "metadata": {
        "id": "9u6YthVX4JFI"
      },
      "execution_count": 3,
      "outputs": []
    },
    {
      "cell_type": "code",
      "source": [
        "train_samples_num = x_train.shape[0]\n",
        "print(train_samples_num)\n",
        "print(type(train_samples_num))"
      ],
      "metadata": {
        "colab": {
          "base_uri": "https://localhost:8080/"
        },
        "id": "JoiLbpPClbwn",
        "outputId": "0d7ba585-8616-4f3b-8eca-dc4c7a432c65"
      },
      "execution_count": 4,
      "outputs": [
        {
          "output_type": "stream",
          "name": "stdout",
          "text": [
            "60000\n",
            "<class 'int'>\n"
          ]
        }
      ]
    },
    {
      "cell_type": "code",
      "source": [
        "\n",
        "fm_label = {\n",
        "0:\t\"T-shirt/top\",\n",
        "1:\t\"Trouser\",\n",
        "2:\t\"Pullover\",\n",
        "3:\t\"Dress\",\n",
        "4:\t\"Coat\",\n",
        "5:\t\"Sandal\",\n",
        "6:\t\"Shirt\",\n",
        "7:\t\"Sneaker\",\n",
        "8:\t\"Bag\",\n",
        "9:\t\"Ankle boot\"\n",
        "}"
      ],
      "metadata": {
        "id": "Rf-qYekZ5RdW"
      },
      "execution_count": 5,
      "outputs": []
    },
    {
      "cell_type": "code",
      "source": [
        "print(x_train[0])\n",
        "print(y_train[0])"
      ],
      "metadata": {
        "colab": {
          "base_uri": "https://localhost:8080/"
        },
        "id": "OXSkmz-F4kGT",
        "outputId": "2f856066-9bff-4f89-e49b-c544999c9aff"
      },
      "execution_count": 6,
      "outputs": [
        {
          "output_type": "stream",
          "name": "stdout",
          "text": [
            "[[  0   0   0   0   0   0   0   0   0   0   0   0   0   0   0   0   0   0\n",
            "    0   0   0   0   0   0   0   0   0   0]\n",
            " [  0   0   0   0   0   0   0   0   0   0   0   0   0   0   0   0   0   0\n",
            "    0   0   0   0   0   0   0   0   0   0]\n",
            " [  0   0   0   0   0   0   0   0   0   0   0   0   0   0   0   0   0   0\n",
            "    0   0   0   0   0   0   0   0   0   0]\n",
            " [  0   0   0   0   0   0   0   0   0   0   0   0   1   0   0  13  73   0\n",
            "    0   1   4   0   0   0   0   1   1   0]\n",
            " [  0   0   0   0   0   0   0   0   0   0   0   0   3   0  36 136 127  62\n",
            "   54   0   0   0   1   3   4   0   0   3]\n",
            " [  0   0   0   0   0   0   0   0   0   0   0   0   6   0 102 204 176 134\n",
            "  144 123  23   0   0   0   0  12  10   0]\n",
            " [  0   0   0   0   0   0   0   0   0   0   0   0   0   0 155 236 207 178\n",
            "  107 156 161 109  64  23  77 130  72  15]\n",
            " [  0   0   0   0   0   0   0   0   0   0   0   1   0  69 207 223 218 216\n",
            "  216 163 127 121 122 146 141  88 172  66]\n",
            " [  0   0   0   0   0   0   0   0   0   1   1   1   0 200 232 232 233 229\n",
            "  223 223 215 213 164 127 123 196 229   0]\n",
            " [  0   0   0   0   0   0   0   0   0   0   0   0   0 183 225 216 223 228\n",
            "  235 227 224 222 224 221 223 245 173   0]\n",
            " [  0   0   0   0   0   0   0   0   0   0   0   0   0 193 228 218 213 198\n",
            "  180 212 210 211 213 223 220 243 202   0]\n",
            " [  0   0   0   0   0   0   0   0   0   1   3   0  12 219 220 212 218 192\n",
            "  169 227 208 218 224 212 226 197 209  52]\n",
            " [  0   0   0   0   0   0   0   0   0   0   6   0  99 244 222 220 218 203\n",
            "  198 221 215 213 222 220 245 119 167  56]\n",
            " [  0   0   0   0   0   0   0   0   0   4   0   0  55 236 228 230 228 240\n",
            "  232 213 218 223 234 217 217 209  92   0]\n",
            " [  0   0   1   4   6   7   2   0   0   0   0   0 237 226 217 223 222 219\n",
            "  222 221 216 223 229 215 218 255  77   0]\n",
            " [  0   3   0   0   0   0   0   0   0  62 145 204 228 207 213 221 218 208\n",
            "  211 218 224 223 219 215 224 244 159   0]\n",
            " [  0   0   0   0  18  44  82 107 189 228 220 222 217 226 200 205 211 230\n",
            "  224 234 176 188 250 248 233 238 215   0]\n",
            " [  0  57 187 208 224 221 224 208 204 214 208 209 200 159 245 193 206 223\n",
            "  255 255 221 234 221 211 220 232 246   0]\n",
            " [  3 202 228 224 221 211 211 214 205 205 205 220 240  80 150 255 229 221\n",
            "  188 154 191 210 204 209 222 228 225   0]\n",
            " [ 98 233 198 210 222 229 229 234 249 220 194 215 217 241  65  73 106 117\n",
            "  168 219 221 215 217 223 223 224 229  29]\n",
            " [ 75 204 212 204 193 205 211 225 216 185 197 206 198 213 240 195 227 245\n",
            "  239 223 218 212 209 222 220 221 230  67]\n",
            " [ 48 203 183 194 213 197 185 190 194 192 202 214 219 221 220 236 225 216\n",
            "  199 206 186 181 177 172 181 205 206 115]\n",
            " [  0 122 219 193 179 171 183 196 204 210 213 207 211 210 200 196 194 191\n",
            "  195 191 198 192 176 156 167 177 210  92]\n",
            " [  0   0  74 189 212 191 175 172 175 181 185 188 189 188 193 198 204 209\n",
            "  210 210 211 188 188 194 192 216 170   0]\n",
            " [  2   0   0   0  66 200 222 237 239 242 246 243 244 221 220 193 191 179\n",
            "  182 182 181 176 166 168  99  58   0   0]\n",
            " [  0   0   0   0   0   0   0  40  61  44  72  41  35   0   0   0   0   0\n",
            "    0   0   0   0   0   0   0   0   0   0]\n",
            " [  0   0   0   0   0   0   0   0   0   0   0   0   0   0   0   0   0   0\n",
            "    0   0   0   0   0   0   0   0   0   0]\n",
            " [  0   0   0   0   0   0   0   0   0   0   0   0   0   0   0   0   0   0\n",
            "    0   0   0   0   0   0   0   0   0   0]]\n",
            "9\n"
          ]
        }
      ]
    },
    {
      "cell_type": "code",
      "source": [
        "x_train, x_test = x_train/255., x_test/255."
      ],
      "metadata": {
        "id": "GlSqEVwy40Vm"
      },
      "execution_count": 7,
      "outputs": []
    },
    {
      "cell_type": "code",
      "source": [
        "input_shape = x_train[0].shape\n",
        "print(input_shape)"
      ],
      "metadata": {
        "colab": {
          "base_uri": "https://localhost:8080/"
        },
        "id": "s-G6Is2u6jnS",
        "outputId": "f8f9ec03-0cc9-4bdf-ac1c-c1dca8f7ad12"
      },
      "execution_count": 8,
      "outputs": [
        {
          "output_type": "stream",
          "name": "stdout",
          "text": [
            "(28, 28)\n"
          ]
        }
      ]
    },
    {
      "cell_type": "code",
      "source": [
        "model = keras.models.Sequential(\n",
        "    [\n",
        "        keras.layers.Flatten(input_shape=input_shape),\n",
        "        #keras.layers.Dense(500, activation='linear'),\n",
        "        #keras.layers.Dropout(rate=0.2),\n",
        "        #keras.layers.Dense(200, activation='relu'),\n",
        "        keras.layers.Dense(240, activation='relu'),\n",
        "        keras.layers.Dropout(rate=0.01),\n",
        "        keras.layers.Dense(10, activation='softmax')\n",
        "    ]\n",
        ")"
      ],
      "metadata": {
        "id": "DF0YecT16IVX"
      },
      "execution_count": 9,
      "outputs": []
    },
    {
      "cell_type": "code",
      "source": [
        "loss_fun = keras.losses.SparseCategoricalCrossentropy()"
      ],
      "metadata": {
        "id": "JfETZa7t8HL0"
      },
      "execution_count": 10,
      "outputs": []
    },
    {
      "cell_type": "code",
      "source": [
        "model.compile(optimizer='adam',\n",
        "              loss=loss_fun,\n",
        "              metrics='accuracy',\n",
        "              loss_weights=None,\n",
        "              weighted_metrics=None,\n",
        "              run_eagerly=None,\n",
        "              steps_per_execution=None,\n",
        "              jit_compile=None,\n",
        "              pss_evaluation_shards=0)"
      ],
      "metadata": {
        "id": "BmhZEGit8_H7"
      },
      "execution_count": 11,
      "outputs": []
    },
    {
      "cell_type": "code",
      "source": [
        "model.fit(x=x_train,\n",
        "          y=y_train,\n",
        "          batch_size=None,\n",
        "          epochs=10,\n",
        "          verbose='auto',\n",
        "          callbacks=None,\n",
        "          validation_split=0.1,\n",
        "          validation_data=None,\n",
        "          shuffle=True,\n",
        "          class_weight=None,\n",
        "          sample_weight=None,\n",
        "          initial_epoch=0,\n",
        "          steps_per_epoch=None,\n",
        "          validation_steps=None,\n",
        "          validation_batch_size=None,\n",
        "          validation_freq=1,\n",
        "          max_queue_size=10,\n",
        "          workers=1,\n",
        "          use_multiprocessing=False)"
      ],
      "metadata": {
        "colab": {
          "base_uri": "https://localhost:8080/"
        },
        "id": "rqsBJQXv9WxX",
        "outputId": "4eb38b74-9d97-408e-c7b0-77ba084a9c07"
      },
      "execution_count": 14,
      "outputs": [
        {
          "output_type": "stream",
          "name": "stdout",
          "text": [
            "Epoch 1/10\n",
            "1688/1688 [==============================] - 9s 5ms/step - loss: 0.2228 - accuracy: 0.9150 - val_loss: 0.3153 - val_accuracy: 0.8902\n",
            "Epoch 2/10\n",
            "1688/1688 [==============================] - 9s 5ms/step - loss: 0.2144 - accuracy: 0.9195 - val_loss: 0.3136 - val_accuracy: 0.8942\n",
            "Epoch 3/10\n",
            "1688/1688 [==============================] - 8s 5ms/step - loss: 0.2077 - accuracy: 0.9216 - val_loss: 0.3297 - val_accuracy: 0.8815\n",
            "Epoch 4/10\n",
            "1688/1688 [==============================] - 9s 5ms/step - loss: 0.2012 - accuracy: 0.9243 - val_loss: 0.3243 - val_accuracy: 0.8883\n",
            "Epoch 5/10\n",
            "1688/1688 [==============================] - 9s 6ms/step - loss: 0.1971 - accuracy: 0.9253 - val_loss: 0.3148 - val_accuracy: 0.8913\n",
            "Epoch 6/10\n",
            "1688/1688 [==============================] - 8s 5ms/step - loss: 0.1899 - accuracy: 0.9296 - val_loss: 0.3287 - val_accuracy: 0.8920\n",
            "Epoch 7/10\n",
            "1688/1688 [==============================] - 9s 5ms/step - loss: 0.1835 - accuracy: 0.9313 - val_loss: 0.3420 - val_accuracy: 0.8862\n",
            "Epoch 8/10\n",
            "1688/1688 [==============================] - 9s 5ms/step - loss: 0.1777 - accuracy: 0.9321 - val_loss: 0.3355 - val_accuracy: 0.8922\n",
            "Epoch 9/10\n",
            "1688/1688 [==============================] - 7s 4ms/step - loss: 0.1732 - accuracy: 0.9338 - val_loss: 0.3726 - val_accuracy: 0.8878\n",
            "Epoch 10/10\n",
            "1688/1688 [==============================] - 9s 5ms/step - loss: 0.1700 - accuracy: 0.9354 - val_loss: 0.3696 - val_accuracy: 0.8887\n"
          ]
        },
        {
          "output_type": "execute_result",
          "data": {
            "text/plain": [
              "<keras.src.callbacks.History at 0x7e9cacad4c10>"
            ]
          },
          "metadata": {},
          "execution_count": 14
        }
      ]
    },
    {
      "cell_type": "code",
      "source": [
        "model.evaluate(x=x_test,\n",
        "  y=y_test,\n",
        "  batch_size=None,\n",
        "  verbose='auto',\n",
        "  sample_weight=None,\n",
        "  steps=None,\n",
        "  callbacks=None,\n",
        "  max_queue_size=10,\n",
        "  workers=1,\n",
        "  use_multiprocessing=False,\n",
        "  return_dict=True)"
      ],
      "metadata": {
        "colab": {
          "base_uri": "https://localhost:8080/"
        },
        "id": "JICR-ezZ_P1v",
        "outputId": "2e0c879f-2445-4714-e7e9-7fa44fbf6045"
      },
      "execution_count": 16,
      "outputs": [
        {
          "output_type": "stream",
          "name": "stdout",
          "text": [
            "313/313 [==============================] - 1s 2ms/step - loss: 0.3819 - accuracy: 0.8814\n"
          ]
        },
        {
          "output_type": "execute_result",
          "data": {
            "text/plain": [
              "{'loss': 0.3819192349910736, 'accuracy': 0.8813999891281128}"
            ]
          },
          "metadata": {},
          "execution_count": 16
        }
      ]
    }
  ]
}